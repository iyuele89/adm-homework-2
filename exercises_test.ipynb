{
 "cells": [
  {
   "cell_type": "markdown",
   "metadata": {},
   "source": [
    "# Import dependencies"
   ]
  },
  {
   "cell_type": "code",
   "execution_count": 1,
   "metadata": {
    "ExecuteTime": {
     "end_time": "2020-11-03T20:49:22.883683Z",
     "start_time": "2020-11-03T20:49:22.545224Z"
    }
   },
   "outputs": [],
   "source": [
    "import pandas as pd\n",
    "import numpy as np\n",
    "import matplotlib.pyplot as plt\n",
    "import squarify\n",
    "import time\n",
    "import matplotlib.pyplot as plt\n",
    "from datetime import datetime\n",
    "import gc\n",
    "import functions"
   ]
  },
  {
   "cell_type": "code",
   "execution_count": 2,
   "metadata": {
    "ExecuteTime": {
     "end_time": "2020-11-03T20:49:24.022498Z",
     "start_time": "2020-11-03T20:49:23.715485Z"
    },
    "code_folding": []
   },
   "outputs": [],
   "source": [
    "import functions_\n",
    "\n",
    "def updatelib():\n",
    "    import importlib\n",
    "    importlib.reload(functions_)"
   ]
  },
  {
   "cell_type": "code",
   "execution_count": 4,
   "metadata": {
    "ExecuteTime": {
     "end_time": "2020-11-03T20:49:43.122891Z",
     "start_time": "2020-11-03T20:49:43.114898Z"
    },
    "code_folding": []
   },
   "outputs": [],
   "source": [
    "from os import walk\n",
    "\n",
    "f = []\n",
    "for (dirpath, dirnames, filenames) in walk('./data'):\n",
    "    f.extend(filenames)\n",
    "    break\n",
    "    \n",
    "dir_path = './data/'\n",
    "dfs = [dir_path + f[i] for i in range(len(f))]"
   ]
  },
  {
   "cell_type": "code",
   "execution_count": 5,
   "metadata": {
    "ExecuteTime": {
     "end_time": "2020-11-03T20:49:43.254370Z",
     "start_time": "2020-11-03T20:49:43.250888Z"
    }
   },
   "outputs": [],
   "source": [
    "nov = dfs[-2]"
   ]
  },
  {
   "cell_type": "code",
   "execution_count": 6,
   "metadata": {
    "ExecuteTime": {
     "end_time": "2020-11-03T20:49:44.694155Z",
     "start_time": "2020-11-03T20:49:44.683605Z"
    }
   },
   "outputs": [
    {
     "data": {
      "text/plain": [
       "'Nov'"
      ]
     },
     "execution_count": 6,
     "metadata": {},
     "output_type": "execute_result"
    }
   ],
   "source": [
    "nov.split('-')[1][:3]"
   ]
  },
  {
   "cell_type": "markdown",
   "metadata": {},
   "source": [
    "## [RQ1]\n",
    "A marketing funnel describes your customer’s journey with your e-commerce. It may involve different stages, beginning when someone learns about your business, when he/she visits your website for the first time, to the purchasing stage, marketing\n",
    "funnels map routes to conversion and beyond. Suppose your funnel involves just three simple steps: 1) view, 2) cart, 3) purchase. Which is the rate of complete funnels?"
   ]
  },
  {
   "cell_type": "markdown",
   "metadata": {},
   "source": [
    "# 1.a\n",
    "What’s the operation users repeat more on average within a session? Produce a plot that shows the average number of times users perform each operation (view/removefromchart etc etc)."
   ]
  },
  {
   "cell_type": "markdown",
   "metadata": {},
   "source": [
    "### 1.b\n",
    "How many times, on average, a user views a product before adding it to the cart?"
   ]
  },
  {
   "cell_type": "markdown",
   "metadata": {},
   "source": [
    "### 1.c\n",
    "What’s the probability that products added once to the cart are effectively bought?"
   ]
  },
  {
   "cell_type": "markdown",
   "metadata": {},
   "source": [
    "### 1.d\n",
    "What’s the average time an item stays in the cart before being removed?"
   ]
  },
  {
   "cell_type": "markdown",
   "metadata": {},
   "source": [
    "# 1.e\n",
    "How much time passes on average between the first view time and a purchase/addition to cart?"
   ]
  },
  {
   "cell_type": "code",
   "execution_count": null,
   "metadata": {},
   "outputs": [],
   "source": [
    "functions.view_purch_avg_time(sample)"
   ]
  },
  {
   "cell_type": "code",
   "execution_count": null,
   "metadata": {},
   "outputs": [],
   "source": [
    "functions_.view_purch_avg_time(nov)"
   ]
  },
  {
   "cell_type": "markdown",
   "metadata": {},
   "source": [
    "## [RQ2]\n",
    "What are the categories of the most trending products overall? For each month visualize this information through a plot showing the number of sold products per category."
   ]
  },
  {
   "cell_type": "code",
   "execution_count": 104,
   "metadata": {
    "scrolled": false
   },
   "outputs": [
    {
     "data": {
      "image/png": "[encoded data removed]",
      "text/plain": [
       "<Figure size 1080x432 with 1 Axes>"
      ]
     },
     "metadata": {
      "needs_background": "light"
     },
     "output_type": "display_data"
    },
    {
     "data": {
      "text/plain": [
       "category\n",
       "electronics     21988192\n",
       "appliances       8037980\n",
       "computers        4029049\n",
       "apparel          2942622\n",
       "furniture        2058798\n",
       "auto             1164278\n",
       "construction     1047072\n",
       "kids              779517\n",
       "accessories       380373\n",
       "sport             240763\n",
       "medicine           20764\n",
       "country_yard       17299\n",
       "stationery         11943\n",
       "Name: product_id, dtype: int64"
      ]
     },
     "execution_count": 104,
     "metadata": {},
     "output_type": "execute_result"
    }
   ],
   "source": [
    "functions_.products_for_category(nov)"
   ]
  },
  {
   "cell_type": "markdown",
   "metadata": {},
   "source": [
    "### 2.a\n",
    "Plot the most visited subcategories."
   ]
  },
  {
   "cell_type": "code",
   "execution_count": 105,
   "metadata": {},
   "outputs": [
    {
     "data": {
      "image/png": "[encoded data removed]",
      "text/plain": [
       "<Figure size 1080x432 with 1 Axes>"
      ]
     },
     "metadata": {
      "needs_background": "light"
     },
     "output_type": "display_data"
    },
    {
     "data": {
      "text/plain": [
       "sub_category_1\n",
       "smartphone        14832387\n",
       "kitchen            5580742\n",
       "shoes              2353170\n",
       "audio              2193152\n",
       "notebook           2103024\n",
       "video              2093728\n",
       "environment        2009404\n",
       "clocks             1994440\n",
       "accessories        1164278\n",
       "living_room        1043222\n",
       "tools              1021917\n",
       "desktop             673875\n",
       "components          637935\n",
       "peripherals         614373\n",
       "bedroom             575931\n",
       "tablet              464073\n",
       "carriage            336311\n",
       "telephone           327630\n",
       "bag                 306574\n",
       "iron                278574\n",
       "sewing_machine      266114\n",
       "costume             241589\n",
       "personal            216216\n",
       "toys                199612\n",
       "bicycle             106037\n",
       "dress                95954\n",
       "trainer              93430\n",
       "dolls                86219\n",
       "camera               82782\n",
       "skates               70649\n",
       "wallet               68909\n",
       "ironing_board        60187\n",
       "swing                57430\n",
       "jeans                52145\n",
       "bathroom             50532\n",
       "shirt                50460\n",
       "underwear            47145\n",
       "ebooks               45761\n",
       "jumper               31269\n",
       "fmcg                 29296\n",
       "trousers             25019\n",
       "tshirt               21179\n",
       "snowboard            17375\n",
       "ski                  16382\n",
       "universal            15856\n",
       "cartrige             11943\n",
       "cultivator            9557\n",
       "skirt                 8766\n",
       "tennis                7539\n",
       "lawn_mower            6173\n",
       "umbrella              4890\n",
       "belt                  4527\n",
       "glove                 3737\n",
       "scarf                 3567\n",
       "sock                  3455\n",
       "furniture             1569\n",
       "shorts                 639\n",
       "jacket                   1\n",
       "Name: event_type, dtype: int64"
      ]
     },
     "execution_count": 105,
     "metadata": {},
     "output_type": "execute_result"
    }
   ],
   "source": [
    "functions_.most_viewed_subcategories_month(nov)"
   ]
  },
  {
   "cell_type": "markdown",
   "metadata": {},
   "source": [
    "### 2.b\n",
    "What are the 10 most sold products per category?"
   ]
  },
  {
   "cell_type": "markdown",
   "metadata": {},
   "source": [
    "#### Observations\n",
    "For each category of the ecommerce dataframe, we computed the 10 most sold products. We can see this big schema here:"
   ]
  },
  {
   "cell_type": "code",
   "execution_count": 207,
   "metadata": {},
   "outputs": [
    {
     "data": {
      "text/html": [
       "<div>\n",
       "<style scoped>\n",
       "    .dataframe tbody tr th:only-of-type {\n",
       "        vertical-align: middle;\n",
       "    }\n",
       "\n",
       "    .dataframe tbody tr th {\n",
       "        vertical-align: top;\n",
       "    }\n",
       "\n",
       "    .dataframe thead th {\n",
       "        text-align: right;\n",
       "    }\n",
       "</style>\n",
       "<table border=\"1\" class=\"dataframe\">\n",
       "  <thead>\n",
       "    <tr style=\"text-align: right;\">\n",
       "      <th></th>\n",
       "      <th>category</th>\n",
       "      <th>product_id</th>\n",
       "      <th>event_type</th>\n",
       "    </tr>\n",
       "  </thead>\n",
       "  <tbody>\n",
       "    <tr>\n",
       "      <th>0</th>\n",
       "      <td>accessories</td>\n",
       "      <td>18300021</td>\n",
       "      <td>53</td>\n",
       "    </tr>\n",
       "    <tr>\n",
       "      <th>1</th>\n",
       "      <td>accessories</td>\n",
       "      <td>28401112</td>\n",
       "      <td>48</td>\n",
       "    </tr>\n",
       "    <tr>\n",
       "      <th>2</th>\n",
       "      <td>accessories</td>\n",
       "      <td>18300155</td>\n",
       "      <td>42</td>\n",
       "    </tr>\n",
       "    <tr>\n",
       "      <th>3</th>\n",
       "      <td>accessories</td>\n",
       "      <td>18300460</td>\n",
       "      <td>38</td>\n",
       "    </tr>\n",
       "    <tr>\n",
       "      <th>4</th>\n",
       "      <td>accessories</td>\n",
       "      <td>28400759</td>\n",
       "      <td>36</td>\n",
       "    </tr>\n",
       "    <tr>\n",
       "      <th>...</th>\n",
       "      <td>...</td>\n",
       "      <td>...</td>\n",
       "      <td>...</td>\n",
       "    </tr>\n",
       "    <tr>\n",
       "      <th>125</th>\n",
       "      <td>stationery</td>\n",
       "      <td>12901426</td>\n",
       "      <td>6</td>\n",
       "    </tr>\n",
       "    <tr>\n",
       "      <th>126</th>\n",
       "      <td>stationery</td>\n",
       "      <td>12900360</td>\n",
       "      <td>5</td>\n",
       "    </tr>\n",
       "    <tr>\n",
       "      <th>127</th>\n",
       "      <td>stationery</td>\n",
       "      <td>12900361</td>\n",
       "      <td>5</td>\n",
       "    </tr>\n",
       "    <tr>\n",
       "      <th>128</th>\n",
       "      <td>stationery</td>\n",
       "      <td>12901271</td>\n",
       "      <td>5</td>\n",
       "    </tr>\n",
       "    <tr>\n",
       "      <th>129</th>\n",
       "      <td>stationery</td>\n",
       "      <td>53400007</td>\n",
       "      <td>5</td>\n",
       "    </tr>\n",
       "  </tbody>\n",
       "</table>\n",
       "<p>130 rows × 3 columns</p>\n",
       "</div>"
      ],
      "text/plain": [
       "        category  product_id  event_type\n",
       "0    accessories    18300021          53\n",
       "1    accessories    28401112          48\n",
       "2    accessories    18300155          42\n",
       "3    accessories    18300460          38\n",
       "4    accessories    28400759          36\n",
       "..           ...         ...         ...\n",
       "125   stationery    12901426           6\n",
       "126   stationery    12900360           5\n",
       "127   stationery    12900361           5\n",
       "128   stationery    12901271           5\n",
       "129   stationery    53400007           5\n",
       "\n",
       "[130 rows x 3 columns]"
      ]
     },
     "execution_count": 207,
     "metadata": {},
     "output_type": "execute_result"
    }
   ],
   "source": [
    "functions_.best_in_cat(nov)"
   ]
  },
  {
   "cell_type": "markdown",
   "metadata": {},
   "source": [
    "Anyway, if we are interested in one particular category, we can obviously look at the 10 most sold products within this category. For example, if we want to see the overall best products in the category `electronics`, we can just call the same function with the parameter `cat`."
   ]
  },
  {
   "cell_type": "code",
   "execution_count": 208,
   "metadata": {},
   "outputs": [
    {
     "data": {
      "text/html": [
       "<div>\n",
       "<style scoped>\n",
       "    .dataframe tbody tr th:only-of-type {\n",
       "        vertical-align: middle;\n",
       "    }\n",
       "\n",
       "    .dataframe tbody tr th {\n",
       "        vertical-align: top;\n",
       "    }\n",
       "\n",
       "    .dataframe thead th {\n",
       "        text-align: right;\n",
       "    }\n",
       "</style>\n",
       "<table border=\"1\" class=\"dataframe\">\n",
       "  <thead>\n",
       "    <tr style=\"text-align: right;\">\n",
       "      <th></th>\n",
       "      <th>category</th>\n",
       "      <th>product_id</th>\n",
       "      <th>event_type</th>\n",
       "    </tr>\n",
       "  </thead>\n",
       "  <tbody>\n",
       "    <tr>\n",
       "      <th>70</th>\n",
       "      <td>electronics</td>\n",
       "      <td>1004856</td>\n",
       "      <td>32321</td>\n",
       "    </tr>\n",
       "    <tr>\n",
       "      <th>71</th>\n",
       "      <td>electronics</td>\n",
       "      <td>1004767</td>\n",
       "      <td>22613</td>\n",
       "    </tr>\n",
       "    <tr>\n",
       "      <th>72</th>\n",
       "      <td>electronics</td>\n",
       "      <td>1005115</td>\n",
       "      <td>22244</td>\n",
       "    </tr>\n",
       "    <tr>\n",
       "      <th>73</th>\n",
       "      <td>electronics</td>\n",
       "      <td>4804056</td>\n",
       "      <td>17800</td>\n",
       "    </tr>\n",
       "    <tr>\n",
       "      <th>74</th>\n",
       "      <td>electronics</td>\n",
       "      <td>1004833</td>\n",
       "      <td>13486</td>\n",
       "    </tr>\n",
       "    <tr>\n",
       "      <th>75</th>\n",
       "      <td>electronics</td>\n",
       "      <td>1002544</td>\n",
       "      <td>11678</td>\n",
       "    </tr>\n",
       "    <tr>\n",
       "      <th>76</th>\n",
       "      <td>electronics</td>\n",
       "      <td>1004870</td>\n",
       "      <td>10673</td>\n",
       "    </tr>\n",
       "    <tr>\n",
       "      <th>77</th>\n",
       "      <td>electronics</td>\n",
       "      <td>1005100</td>\n",
       "      <td>10132</td>\n",
       "    </tr>\n",
       "    <tr>\n",
       "      <th>78</th>\n",
       "      <td>electronics</td>\n",
       "      <td>1004249</td>\n",
       "      <td>8881</td>\n",
       "    </tr>\n",
       "    <tr>\n",
       "      <th>79</th>\n",
       "      <td>electronics</td>\n",
       "      <td>1005105</td>\n",
       "      <td>8483</td>\n",
       "    </tr>\n",
       "  </tbody>\n",
       "</table>\n",
       "</div>"
      ],
      "text/plain": [
       "       category  product_id  event_type\n",
       "70  electronics     1004856       32321\n",
       "71  electronics     1004767       22613\n",
       "72  electronics     1005115       22244\n",
       "73  electronics     4804056       17800\n",
       "74  electronics     1004833       13486\n",
       "75  electronics     1002544       11678\n",
       "76  electronics     1004870       10673\n",
       "77  electronics     1005100       10132\n",
       "78  electronics     1004249        8881\n",
       "79  electronics     1005105        8483"
      ]
     },
     "execution_count": 208,
     "metadata": {},
     "output_type": "execute_result"
    }
   ],
   "source": [
    "functions_.best_in_cat(nov, cat='electronics')"
   ]
  },
  {
   "cell_type": "markdown",
   "metadata": {},
   "source": [
    "## [RQ3]\n",
    "For each category, what’s the brand whose prices are higher on average?"
   ]
  },
  {
   "cell_type": "markdown",
   "metadata": {},
   "source": [
    "### 3.a\n",
    "Write a function that asks the user a category in input and returns a plot indicating the average price of the products sold by the brand."
   ]
  },
  {
   "cell_type": "code",
   "execution_count": 289,
   "metadata": {},
   "outputs": [
    {
     "data": {
      "image/png": "[encoded data removed]",
      "text/plain": [
       "<Figure size 1080x432 with 1 Axes>"
      ]
     },
     "metadata": {
      "needs_background": "light"
     },
     "output_type": "display_data"
    }
   ],
   "source": [
    "# e.g., if `category = electronics`\n",
    "functions_.avg_price_cat(nov, 'electronics')"
   ]
  },
  {
   "cell_type": "markdown",
   "metadata": {},
   "source": [
    "### 3.b\n",
    "Find, for each category, the brand with the highest average price. Return all the results in ascending order by price."
   ]
  },
  {
   "cell_type": "code",
   "execution_count": 64,
   "metadata": {
    "ExecuteTime": {
     "end_time": "2020-11-03T21:35:52.637996Z",
     "start_time": "2020-11-03T21:24:55.783310Z"
    }
   },
   "outputs": [
    {
     "data": {
      "text/html": [
       "<div>\n",
       "<style scoped>\n",
       "    .dataframe tbody tr th:only-of-type {\n",
       "        vertical-align: middle;\n",
       "    }\n",
       "\n",
       "    .dataframe tbody tr th {\n",
       "        vertical-align: top;\n",
       "    }\n",
       "\n",
       "    .dataframe thead th {\n",
       "        text-align: right;\n",
       "    }\n",
       "</style>\n",
       "<table border=\"1\" class=\"dataframe\">\n",
       "  <thead>\n",
       "    <tr style=\"text-align: right;\">\n",
       "      <th></th>\n",
       "      <th></th>\n",
       "      <th>price_avg</th>\n",
       "    </tr>\n",
       "    <tr>\n",
       "      <th>category</th>\n",
       "      <th>brand</th>\n",
       "      <th></th>\n",
       "    </tr>\n",
       "  </thead>\n",
       "  <tbody>\n",
       "    <tr>\n",
       "      <th>medicine</th>\n",
       "      <th>omron</th>\n",
       "      <td>53.110095</td>\n",
       "    </tr>\n",
       "    <tr>\n",
       "      <th>stationery</th>\n",
       "      <th>xerox</th>\n",
       "      <td>66.670000</td>\n",
       "    </tr>\n",
       "    <tr>\n",
       "      <th>country_yard</th>\n",
       "      <th>viking</th>\n",
       "      <td>722.756054</td>\n",
       "    </tr>\n",
       "    <tr>\n",
       "      <th>accessories</th>\n",
       "      <th>weekend</th>\n",
       "      <td>773.611582</td>\n",
       "    </tr>\n",
       "    <tr>\n",
       "      <th>apparel</th>\n",
       "      <th>sergiorossi</th>\n",
       "      <td>1018.397273</td>\n",
       "    </tr>\n",
       "    <tr>\n",
       "      <th>auto</th>\n",
       "      <th>metabo</th>\n",
       "      <td>1123.877582</td>\n",
       "    </tr>\n",
       "    <tr>\n",
       "      <th>kids</th>\n",
       "      <th>hartan</th>\n",
       "      <td>1801.820000</td>\n",
       "    </tr>\n",
       "    <tr>\n",
       "      <th>furniture</th>\n",
       "      <th>senspa</th>\n",
       "      <td>1976.539630</td>\n",
       "    </tr>\n",
       "    <tr>\n",
       "      <th>electronics</th>\n",
       "      <th>rado</th>\n",
       "      <td>2041.073729</td>\n",
       "    </tr>\n",
       "    <tr>\n",
       "      <th>appliances</th>\n",
       "      <th>climadiff</th>\n",
       "      <td>2198.126565</td>\n",
       "    </tr>\n",
       "    <tr>\n",
       "      <th>construction</th>\n",
       "      <th>helix</th>\n",
       "      <td>2199.047736</td>\n",
       "    </tr>\n",
       "    <tr>\n",
       "      <th>computers</th>\n",
       "      <th>dreammachines</th>\n",
       "      <td>2558.752243</td>\n",
       "    </tr>\n",
       "    <tr>\n",
       "      <th>sport</th>\n",
       "      <th>pinarello</th>\n",
       "      <td>2573.810000</td>\n",
       "    </tr>\n",
       "  </tbody>\n",
       "</table>\n",
       "</div>"
      ],
      "text/plain": [
       "                              price_avg\n",
       "category     brand                     \n",
       "medicine     omron            53.110095\n",
       "stationery   xerox            66.670000\n",
       "country_yard viking          722.756054\n",
       "accessories  weekend         773.611582\n",
       "apparel      sergiorossi    1018.397273\n",
       "auto         metabo         1123.877582\n",
       "kids         hartan         1801.820000\n",
       "furniture    senspa         1976.539630\n",
       "electronics  rado           2041.073729\n",
       "appliances   climadiff      2198.126565\n",
       "construction helix          2199.047736\n",
       "computers    dreammachines  2558.752243\n",
       "sport        pinarello      2573.810000"
      ]
     },
     "execution_count": 64,
     "metadata": {},
     "output_type": "execute_result"
    }
   ],
   "source": [
    "updatelib()\n",
    "\n",
    "functions_.highest_price_brands(nov)"
   ]
  },
  {
   "cell_type": "markdown",
   "metadata": {},
   "source": [
    "## [RQ5]\n",
    "In what part of the day is your store most visited? Knowing which days of the week or even which hours of the day shoppers are likely to visit your online store and make a purchase may help you improve your strategies. Create a plot that for each day of\n",
    "the week show the hourly average of visitors your store has."
   ]
  },
  {
   "cell_type": "code",
   "execution_count": null,
   "metadata": {},
   "outputs": [],
   "source": [
    "def avg_users(path):\n",
    "    df = pd.read_csv(path, usecols=['event_time', 'user_id'], iterator=True, chunksize=100000)\n",
    "    \n",
    "    "
   ]
  },
  {
   "cell_type": "code",
   "execution_count": null,
   "metadata": {},
   "outputs": [],
   "source": [
    "def avg_users(df):\n",
    "    \"\"\"Plot for each day of the week the hourly average of visitors the store has\n",
    "\n",
    "    Args:\n",
    "        df (pd.DataFrame): Dataframe to use for the calculations\n",
    "    \"\"\"\n",
    "\n",
    "    week_days = []\n",
    "\n",
    "    for _, week_day_df in df.groupby([df.event_time.dt.weekday], sort=False):\n",
    "        users_num = week_day_df.groupby([week_day_df.event_time.dt.hour], sort=False).count()['user_id']\n",
    "        week_days.append((users_num, week_day_df.event_time.iloc[0].strftime('%A')))\n",
    "\n",
    "    plots_colors = ['royalblue', 'orange', 'mediumseagreen',\n",
    "                    'crimson', 'darkcyan', 'coral', 'violet']\n",
    "\n",
    "    # For every day of the week, plot the average number of users that visit the store each hour\n",
    "    for i, (week_day, day_name) in enumerate(week_days):\n",
    "        # Plot them\n",
    "        plot_bar(to_plot=week_day,\n",
    "                 title='Average number of users per hour - {}'.format(\n",
    "                     day_name),\n",
    "                 xlabel='Hour',\n",
    "                 ylabel='Avg users',\n",
    "                 color=plots_colors[i]\n",
    "                 )\n",
    "    gc.collect\n",
    "    return"
   ]
  },
  {
   "cell_type": "code",
   "execution_count": null,
   "metadata": {
    "scrolled": true
   },
   "outputs": [],
   "source": [
    "# Use sample for time reasons\n",
    "\n",
    "functions.avg_users(sample)"
   ]
  },
  {
   "cell_type": "markdown",
   "metadata": {},
   "source": [
    "## [RQ6]\n",
    "The conversion rate of a product is given by the purchase rate over the number of times the product has been visited. What's the conversion rate of your online store?"
   ]
  },
  {
   "cell_type": "markdown",
   "metadata": {},
   "source": [
    "### 6.a\n",
    "Find the overall conversion rate of your store."
   ]
  },
  {
   "cell_type": "code",
   "execution_count": null,
   "metadata": {},
   "outputs": [],
   "source": [
    "functions.overall_conversion_rate(sample)"
   ]
  },
  {
   "cell_type": "markdown",
   "metadata": {},
   "source": [
    "### 6.b\n",
    "Plot the purchase rate of each category and show the conversion rate of each category in decreasing order."
   ]
  },
  {
   "cell_type": "code",
   "execution_count": null,
   "metadata": {},
   "outputs": [],
   "source": [
    "functions.category_conv_rate(sample)"
   ]
  },
  {
   "cell_type": "markdown",
   "metadata": {},
   "source": [
    "## [RQ7]\n",
    "The Pareto principle states that for many outcomes roughly 80% of consequences come from 20% of the causes. Also known as 80/20 rule, in e-commerce simply means that most of your business, around 80%, likely comes from about 20% of your\n",
    "customers.\n",
    "\n",
    "Prove that the pareto principle applies to your store."
   ]
  },
  {
   "cell_type": "code",
   "execution_count": null,
   "metadata": {},
   "outputs": [],
   "source": [
    "print('20% of the users in the ecommerce provide for {:.2f} of the entire business.'.format(functions.pareto_principle(df_Nov)))"
   ]
  },
  {
   "cell_type": "code",
   "execution_count": null,
   "metadata": {},
   "outputs": [],
   "source": [
    "print('25% of the users in the ecommerce provide for {:.2f} of the entire business.'.format(functions.pareto_principle(df_Nov, 25)))"
   ]
  },
  {
   "cell_type": "markdown",
   "metadata": {},
   "source": [
    "#### Observations\n",
    "\n",
    "As we can see in the previous cells, the Pareto principle is respected (with a 75/25 ratio).\n",
    "\n",
    "Moreover, we can also analyze the behaviour with respect to the percentage of users considered. If we look at the plot below, we can see that 10% of the users already provide for more than half of the whole business. Also, from the 50% point on, we can see that the whole business is almost completely conducted by the first half of the users."
   ]
  },
  {
   "cell_type": "code",
   "execution_count": null,
   "metadata": {},
   "outputs": [],
   "source": [
    "functions.plot_pareto(df_Nov)"
   ]
  }
 ],
 "metadata": {
  "kernelspec": {
   "display_name": "Python 3",
   "language": "python",
   "name": "python3"
  },
  "language_info": {
   "codemirror_mode": {
    "name": "ipython",
    "version": 3
   },
   "file_extension": ".py",
   "mimetype": "text/x-python",
   "name": "python",
   "nbconvert_exporter": "python",
   "pygments_lexer": "ipython3",
   "version": "3.7.6"
  }
 },
 "nbformat": 4,
 "nbformat_minor": 4
}
