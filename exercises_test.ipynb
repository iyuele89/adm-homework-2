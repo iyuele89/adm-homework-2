{
 "cells": [
  {
   "cell_type": "markdown",
   "metadata": {},
   "source": [
    "# Import dependencies"
   ]
  },
  {
   "cell_type": "code",
   "execution_count": 1,
   "metadata": {
    "ExecuteTime": {
     "end_time": "2020-11-04T15:21:32.062866Z",
     "start_time": "2020-11-04T15:21:31.476446Z"
    }
   },
   "outputs": [],
   "source": [
    "import pandas as pd\n",
    "import numpy as np\n",
    "import matplotlib.pyplot as plt\n",
    "import squarify\n",
    "import time\n",
    "import matplotlib.pyplot as plt\n",
    "from datetime import datetime\n",
    "import gc\n",
    "import functions\n",
    "import functions_\n",
    "from collections import defaultdict"
   ]
  },
  {
   "cell_type": "code",
   "execution_count": 2,
   "metadata": {
    "ExecuteTime": {
     "end_time": "2020-11-04T15:21:33.412355Z",
     "start_time": "2020-11-04T15:21:33.410272Z"
    },
    "code_folding": []
   },
   "outputs": [],
   "source": [
    "def updatelib():\n",
    "    import importlib\n",
    "    importlib.reload(functions_)"
   ]
  },
  {
   "cell_type": "code",
   "execution_count": 674,
   "metadata": {
    "ExecuteTime": {
     "end_time": "2020-11-04T23:36:32.255354Z",
     "start_time": "2020-11-04T23:36:32.249010Z"
    }
   },
   "outputs": [],
   "source": [
    "dfs = ['./data/2019-Oct.csv',\n",
    "       './data/2019-Nov.csv',\n",
    "       './data/2019-Dec.csv',\n",
    "       './data/2020-Jan.csv',\n",
    "       './data/2020-Feb.csv',\n",
    "       './data/2020-Mar.csv',\n",
    "       './data/2020-Apr.csv']"
   ]
  },
  {
   "cell_type": "code",
   "execution_count": 4,
   "metadata": {
    "ExecuteTime": {
     "end_time": "2020-11-04T15:21:34.463975Z",
     "start_time": "2020-11-04T15:21:34.461817Z"
    }
   },
   "outputs": [],
   "source": [
    "nov = dfs[-2]"
   ]
  },
  {
   "cell_type": "markdown",
   "metadata": {},
   "source": [
    "## [RQ1]\n",
    "A marketing funnel describes your customer’s journey with your e-commerce. It may involve different stages, beginning when someone learns about your business, when he/she visits your website for the first time, to the purchasing stage, marketing\n",
    "funnels map routes to conversion and beyond. Suppose your funnel involves just three simple steps: 1) view, 2) cart, 3) purchase. Which is the rate of complete funnels?"
   ]
  },
  {
   "cell_type": "markdown",
   "metadata": {},
   "source": [
    "# 1.a\n",
    "What’s the operation users repeat more on average within a session? Produce a plot that shows the average number of times users perform each operation (view/removefromchart etc etc)."
   ]
  },
  {
   "cell_type": "code",
   "execution_count": 689,
   "metadata": {
    "ExecuteTime": {
     "end_time": "2020-11-05T00:00:06.394290Z",
     "start_time": "2020-11-04T23:48:30.967099Z"
    }
   },
   "outputs": [
    {
     "data": {
      "text/plain": [
       "<Figure size 432x288 with 0 Axes>"
      ]
     },
     "metadata": {},
     "output_type": "display_data"
    },
    {
     "data": {
      "image/png": "[encoded data removed]",
      "text/plain": [
       "<Figure size 1080x432 with 1 Axes>"
      ]
     },
     "metadata": {
      "needs_background": "light"
     },
     "output_type": "display_data"
    }
   ],
   "source": [
    "updatelib()\n",
    "test = functions_.plt_avg_event_session(dfs)"
   ]
  },
  {
   "cell_type": "markdown",
   "metadata": {},
   "source": [
    "### 1.b\n",
    "How many times, on average, a user views a product before adding it to the cart?"
   ]
  },
  {
   "cell_type": "code",
   "execution_count": 89,
   "metadata": {
    "ExecuteTime": {
     "end_time": "2020-11-04T17:04:15.346643Z",
     "start_time": "2020-11-04T17:02:34.047140Z"
    }
   },
   "outputs": [
    {
     "data": {
      "text/plain": [
       "3.607123111121696"
      ]
     },
     "execution_count": 89,
     "metadata": {},
     "output_type": "execute_result"
    }
   ],
   "source": [
    "updatelib()\n",
    "functions_.avg_view_before_cart(dfs)"
   ]
  },
  {
   "cell_type": "markdown",
   "metadata": {},
   "source": [
    "### 1.c\n",
    "What’s the probability that products added once to the cart are effectively bought?"
   ]
  },
  {
   "cell_type": "code",
   "execution_count": 255,
   "metadata": {
    "ExecuteTime": {
     "end_time": "2020-11-04T19:16:32.185756Z",
     "start_time": "2020-11-04T19:16:32.172155Z"
    }
   },
   "outputs": [],
   "source": [
    "def purchase_after_cart_prob(path):\n",
    "    df = pd.read_csv(path, usecols=['event_type', 'user_id', 'product_id'], iterator=True, chunksize=1000000)\n",
    "    results = pd.DataFrame()\n",
    "    cart_purch_num = 0\n",
    "    cart_total_num = 0\n",
    "    for frame in df:\n",
    "        frame['is_cart'] = 0\n",
    "        frame['is_purchase'] = 0\n",
    "        frame.loc[frame['event_type'] == 'cart', 'is_cart'] = 1\n",
    "        frame.loc[frame['event_type'] == 'purchase', 'is_purchase'] = 1\n",
    "        frame = frame[frame['is_cart'] != 0]\n",
    "#         frame = frame.groupby('user_id').sum().reset_index()\n",
    "        results = results.append(frame)\n",
    "        \n",
    "    results = results.groupby('user_id').sum()\n",
    "    cart_purch_num += results[(results['is_purchase'] != 1) & (results['is_cart'] == 1)].shape[0]\n",
    "    cart_total_num += results[(results['is_cart'] == 1)].shape[0]\n",
    "    \n",
    "    return cart_purch_num / cart_total_num"
   ]
  },
  {
   "cell_type": "code",
   "execution_count": 241,
   "metadata": {
    "ExecuteTime": {
     "end_time": "2020-11-04T19:10:03.511304Z",
     "start_time": "2020-11-04T19:10:03.387246Z"
    }
   },
   "outputs": [
    {
     "data": {
      "text/plain": [
       "0.4666666666666667"
      ]
     },
     "execution_count": 241,
     "metadata": {},
     "output_type": "execute_result"
    }
   ],
   "source": [
    "df = pd.read_csv('test.csv', usecols=['event_type', 'user_id', 'product_id'])\n",
    "\n",
    "df1 = df[:df.shape[0] // 2].copy()\n",
    "df2 = df[df.shape[0] // 2:].copy()\n",
    "\n",
    "df1['is_cart'] = 0\n",
    "df1['is_purchase'] = 0\n",
    "df1.loc[df1['event_type'] == 'cart', 'is_cart'] = 1\n",
    "df1.loc[df1['event_type'] == 'purchase', 'is_purchase'] = 1\n",
    "a1 = df1.groupby('product_id').sum().reset_index()\n",
    "\n",
    "df2['is_cart'] = 0\n",
    "df2['is_purchase'] = 0\n",
    "df2.loc[df2['event_type'] == 'cart', 'is_cart'] = 1\n",
    "df2.loc[df2['event_type'] == 'purchase', 'is_purchase'] = 1\n",
    "a2 = df1.groupby('product_id').sum()\n",
    "\n",
    "b = a1.append(a2).groupby('product_id').sum()\n",
    "\n",
    "\n",
    "cart_purch_num = b[(b['is_purchase'] != 0) & (b['is_cart'] == 1)].shape[0]\n",
    "cart_total_num = b[(b['is_cart'] == 1)].shape[0]\n",
    "\n",
    "\n",
    "cart_purch_num / cart_total_num"
   ]
  },
  {
   "cell_type": "code",
   "execution_count": 245,
   "metadata": {
    "ExecuteTime": {
     "end_time": "2020-11-04T19:12:56.001916Z",
     "start_time": "2020-11-04T19:12:55.993339Z"
    }
   },
   "outputs": [],
   "source": [
    "cart_purch_num2 = a2[(a2['is_purchase'] != 0) & (a2['is_cart'] == 1)].shape[0]\n",
    "cart_total_num2 = a2[(a2['is_cart'] == 1)].shape[0]"
   ]
  },
  {
   "cell_type": "code",
   "execution_count": 246,
   "metadata": {
    "ExecuteTime": {
     "end_time": "2020-11-04T19:13:17.729702Z",
     "start_time": "2020-11-04T19:13:17.724449Z"
    }
   },
   "outputs": [
    {
     "data": {
      "text/plain": [
       "0.4666666666666667"
      ]
     },
     "execution_count": 246,
     "metadata": {},
     "output_type": "execute_result"
    }
   ],
   "source": [
    "(cart_purch_num1 + cart_purch_num2) / (cart_total_num1 + cart_total_num2)"
   ]
  },
  {
   "cell_type": "code",
   "execution_count": 239,
   "metadata": {
    "ExecuteTime": {
     "end_time": "2020-11-04T19:09:32.368577Z",
     "start_time": "2020-11-04T19:09:32.270181Z"
    }
   },
   "outputs": [
    {
     "data": {
      "text/plain": [
       "0.4533333333333333"
      ]
     },
     "execution_count": 239,
     "metadata": {},
     "output_type": "execute_result"
    }
   ],
   "source": [
    "df = pd.read_csv('test.csv', usecols=['event_type', 'user_id', 'product_id'])\n",
    "\n",
    "# df1 = df[:df.shape[0] // 2].copy()\n",
    "# df2 = df[df.shape[0] // 2:].copy()\n",
    "\n",
    "df['is_cart'] = 0\n",
    "df['is_purchase'] = 0\n",
    "df.loc[df['event_type'] == 'cart', 'is_cart'] = 1\n",
    "df.loc[df['event_type'] == 'purchase', 'is_purchase'] = 1\n",
    "a = df.groupby('product_id').sum().reset_index()\n",
    "\n",
    "\n",
    "\n",
    "cart_purch_num = a[(a['is_purchase'] != 0) & (a['is_cart'] == 1)].shape[0]\n",
    "cart_total_num = a[(a['is_cart'] == 1)].shape[0]\n",
    "\n",
    "\n",
    "cart_purch_num / cart_total_num"
   ]
  },
  {
   "cell_type": "code",
   "execution_count": 256,
   "metadata": {
    "ExecuteTime": {
     "end_time": "2020-11-04T19:16:34.987665Z",
     "start_time": "2020-11-04T19:16:34.870528Z"
    }
   },
   "outputs": [
    {
     "data": {
      "text/plain": [
       "1.0"
      ]
     },
     "execution_count": 256,
     "metadata": {},
     "output_type": "execute_result"
    }
   ],
   "source": [
    "purchase_after_cart_prob('test.csv')"
   ]
  },
  {
   "cell_type": "markdown",
   "metadata": {},
   "source": [
    "### 1.d\n",
    "What’s the average time an item stays in the cart before being removed?"
   ]
  },
  {
   "cell_type": "markdown",
   "metadata": {},
   "source": [
    "### 1.e\n",
    "How much time passes on average between the first view time and a purchase/addition to cart?"
   ]
  },
  {
   "cell_type": "code",
   "execution_count": null,
   "metadata": {},
   "outputs": [],
   "source": [
    "functions.view_purch_avg_time(sample)"
   ]
  },
  {
   "cell_type": "code",
   "execution_count": null,
   "metadata": {},
   "outputs": [],
   "source": [
    "functions_.view_purch_avg_time(nov)"
   ]
  },
  {
   "cell_type": "markdown",
   "metadata": {},
   "source": [
    "## [RQ2]\n",
    "What are the categories of the most trending products overall? For each month visualize this information through a plot showing the number of sold products per category."
   ]
  },
  {
   "cell_type": "code",
   "execution_count": null,
   "metadata": {
    "ExecuteTime": {
     "start_time": "2020-11-05T00:00:41.531Z"
    },
    "scrolled": false
   },
   "outputs": [],
   "source": [
    "updatelib()\n",
    "functions_.products_for_category(dfs)"
   ]
  },
  {
   "cell_type": "markdown",
   "metadata": {},
   "source": [
    "### 2.a\n",
    "Plot the most visited subcategories."
   ]
  },
  {
   "cell_type": "code",
   "execution_count": null,
   "metadata": {
    "ExecuteTime": {
     "start_time": "2020-11-05T00:00:44.982Z"
    }
   },
   "outputs": [],
   "source": [
    "updatelib()\n",
    "functions_.most_viewed_subcategories_month(dfs)"
   ]
  },
  {
   "cell_type": "markdown",
   "metadata": {},
   "source": [
    "### 2.b\n",
    "What are the 10 most sold products per category?"
   ]
  },
  {
   "cell_type": "markdown",
   "metadata": {},
   "source": [
    "#### Observations\n",
    "For each category of the ecommerce dataframe, we computed the 10 most sold products. We can see this big schema here:"
   ]
  },
  {
   "cell_type": "code",
   "execution_count": null,
   "metadata": {
    "ExecuteTime": {
     "start_time": "2020-11-05T00:01:11.240Z"
    }
   },
   "outputs": [],
   "source": [
    "updatelib()\n",
    "functions_.best_in_cat(dfs)"
   ]
  },
  {
   "cell_type": "markdown",
   "metadata": {},
   "source": [
    "Anyway, if we are interested in one particular category, we can obviously look at the 10 most sold products within this category. For example, if we want to see the overall best products in the category `electronics`, we can just call the same function with the parameter `cat`."
   ]
  },
  {
   "cell_type": "code",
   "execution_count": null,
   "metadata": {
    "ExecuteTime": {
     "start_time": "2020-11-05T00:01:16.010Z"
    }
   },
   "outputs": [],
   "source": [
    "updatelib()\n",
    "functions_.best_in_cat(nov, cat='electronics')"
   ]
  },
  {
   "cell_type": "markdown",
   "metadata": {},
   "source": [
    "## [RQ3]\n",
    "For each category, what’s the brand whose prices are higher on average?"
   ]
  },
  {
   "cell_type": "markdown",
   "metadata": {},
   "source": [
    "### 3.a\n",
    "Write a function that asks the user a category in input and returns a plot indicating the average price of the products sold by the brand."
   ]
  },
  {
   "cell_type": "code",
   "execution_count": null,
   "metadata": {
    "ExecuteTime": {
     "start_time": "2020-11-05T00:01:29.601Z"
    }
   },
   "outputs": [],
   "source": [
    "# e.g., if `category = electronics`\n",
    "updatelib()\n",
    "functions_.avg_price_cat(dfs, 'electronics')"
   ]
  },
  {
   "cell_type": "markdown",
   "metadata": {},
   "source": [
    "### 3.b\n",
    "Find, for each category, the brand with the highest average price. Return all the results in ascending order by price."
   ]
  },
  {
   "cell_type": "code",
   "execution_count": null,
   "metadata": {
    "ExecuteTime": {
     "start_time": "2020-11-05T00:01:35.091Z"
    }
   },
   "outputs": [],
   "source": [
    "updatelib()\n",
    "\n",
    "functions_.highest_price_brands(dfs)"
   ]
  },
  {
   "cell_type": "markdown",
   "metadata": {},
   "source": [
    "## [RQ4]\n",
    "How much does each brand earn per month?"
   ]
  },
  {
   "cell_type": "markdown",
   "metadata": {},
   "source": [
    "### 4.a\n",
    "Write a function that given the name of a brand in input returns, for each month, its profit. Is the average price of products of different brands significantly different?"
   ]
  },
  {
   "cell_type": "code",
   "execution_count": null,
   "metadata": {
    "ExecuteTime": {
     "start_time": "2020-11-05T00:01:53.563Z"
    },
    "scrolled": true
   },
   "outputs": [],
   "source": [
    "updatelib()\n",
    "all_brands, apple_profits = functions_.monthly_profit_all_brands(dfs, 'apple')"
   ]
  },
  {
   "cell_type": "code",
   "execution_count": null,
   "metadata": {
    "ExecuteTime": {
     "start_time": "2020-11-05T00:01:55.746Z"
    }
   },
   "outputs": [],
   "source": [
    "all_brands"
   ]
  },
  {
   "cell_type": "code",
   "execution_count": null,
   "metadata": {
    "ExecuteTime": {
     "start_time": "2020-11-05T00:01:57.816Z"
    }
   },
   "outputs": [],
   "source": [
    "apple_profits"
   ]
  },
  {
   "cell_type": "markdown",
   "metadata": {},
   "source": [
    "### 4.b\n",
    "Using the function you just created, find the top 3 brands that have suffered the biggest losses in earnings between one month and the next, specifing both the loss percentage and the 2 months (e.g., brand_1 lost 20% between march and april)."
   ]
  },
  {
   "cell_type": "code",
   "execution_count": null,
   "metadata": {
    "ExecuteTime": {
     "start_time": "2020-11-05T00:02:02.338Z"
    }
   },
   "outputs": [],
   "source": [
    "updatelib()\n",
    "functions_.top_losses(all_brands)"
   ]
  },
  {
   "cell_type": "markdown",
   "metadata": {},
   "source": [
    "## [RQ5]\n",
    "In what part of the day is your store most visited? Knowing which days of the week or even which hours of the day shoppers are likely to visit your online store and make a purchase may help you improve your strategies. Create a plot that for each day of\n",
    "the week show the hourly average of visitors your store has."
   ]
  },
  {
   "cell_type": "code",
   "execution_count": null,
   "metadata": {
    "ExecuteTime": {
     "start_time": "2020-11-05T00:02:16.131Z"
    }
   },
   "outputs": [],
   "source": [
    "updatelib()\n",
    "week_days = functions_.avg_users(dfs)"
   ]
  },
  {
   "cell_type": "markdown",
   "metadata": {},
   "source": [
    "## [RQ6]\n",
    "The conversion rate of a product is given by the purchase rate over the number of times the product has been visited. What's the conversion rate of your online store?"
   ]
  },
  {
   "cell_type": "markdown",
   "metadata": {},
   "source": [
    "### 6.a\n",
    "Find the overall conversion rate of your store."
   ]
  },
  {
   "cell_type": "code",
   "execution_count": null,
   "metadata": {
    "ExecuteTime": {
     "start_time": "2020-11-05T00:02:20.676Z"
    }
   },
   "outputs": [],
   "source": [
    "updatelib()\n",
    "functions_.conversion_rate(dfs)"
   ]
  },
  {
   "cell_type": "markdown",
   "metadata": {},
   "source": [
    "### 6.b\n",
    "Plot the purchase rate of each category and show the conversion rate of each category in decreasing order."
   ]
  },
  {
   "cell_type": "code",
   "execution_count": null,
   "metadata": {
    "ExecuteTime": {
     "start_time": "2020-11-05T00:02:23.399Z"
    }
   },
   "outputs": [],
   "source": [
    "updatelib()\n",
    "functions_.category_conv_rate(dfs)"
   ]
  },
  {
   "cell_type": "markdown",
   "metadata": {},
   "source": [
    "## [RQ7]\n",
    "The Pareto principle states that for many outcomes roughly 80% of consequences come from 20% of the causes. Also known as 80/20 rule, in e-commerce simply means that most of your business, around 80%, likely comes from about 20% of your\n",
    "customers.\n",
    "\n",
    "Prove that the pareto principle applies to your store."
   ]
  },
  {
   "cell_type": "code",
   "execution_count": null,
   "metadata": {
    "ExecuteTime": {
     "start_time": "2020-11-05T00:02:29.833Z"
    }
   },
   "outputs": [],
   "source": [
    "print('20% of the users in the ecommerce provide for {:.2f} of the entire business.'.format(functions_.pareto_principle(dfs)))"
   ]
  },
  {
   "cell_type": "code",
   "execution_count": null,
   "metadata": {
    "ExecuteTime": {
     "start_time": "2020-11-05T00:02:33.254Z"
    }
   },
   "outputs": [],
   "source": [
    "print('25% of the users in the ecommerce provide for {:.2f} of the entire business.'.format(functions_.pareto_principle(dfs, 25)))"
   ]
  },
  {
   "cell_type": "markdown",
   "metadata": {},
   "source": [
    "#### Observations\n",
    "\n",
    "As we can see in the previous cells, the Pareto principle is respected (with a 75/25 ratio).\n",
    "\n",
    "Moreover, we can also analyze the behaviour with respect to the percentage of users considered. If we look at the plot below, we can see that 10% of the users already provide for more than half of the whole business. Also, from the 50% point on, we can see that the whole business is almost completely conducted by the first half of the users."
   ]
  },
  {
   "cell_type": "code",
   "execution_count": null,
   "metadata": {
    "ExecuteTime": {
     "start_time": "2020-11-05T00:02:38.181Z"
    }
   },
   "outputs": [],
   "source": [
    "updatelib()\n",
    "functions_.plot_pareto(dfs)"
   ]
  }
 ],
 "metadata": {
  "kernelspec": {
   "display_name": "Python 3",
   "language": "python",
   "name": "python3"
  },
  "language_info": {
   "codemirror_mode": {
    "name": "ipython",
    "version": 3
   },
   "file_extension": ".py",
   "mimetype": "text/x-python",
   "name": "python",
   "nbconvert_exporter": "python",
   "pygments_lexer": "ipython3",
   "version": "3.7.6"
  }
 },
 "nbformat": 4,
 "nbformat_minor": 4
}
