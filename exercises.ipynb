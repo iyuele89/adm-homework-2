{
 "cells": [
  {
   "cell_type": "code",
   "execution_count": null,
   "metadata": {},
   "outputs": [],
   "source": [
    "import pandas as pd\n",
    "import numpy as np\n",
    "import matplotlib.pyplot as plt\n",
    "import squarify\n",
    "import time\n",
    "import matplotlib.pyplot as plt\n",
    "from datetime import datetime"
   ]
  },
  {
   "cell_type": "code",
   "execution_count": null,
   "metadata": {},
   "outputs": [],
   "source": [
    "start = time.time()\n",
    "df_Nov = pd.read_csv(\"./data/2019-Nov.csv\")\n",
    "df_Nov['event_time'] = pd.to_datetime(df_Nov['event_time'], format='%Y-%m-%d %H:%M:%S %Z')\n",
    "end = time.time()\n",
    "print(end - start)"
   ]
  },
  {
   "cell_type": "markdown",
   "metadata": {},
   "source": [
    "## [RQ1]\n",
    "A marketing funnel describes your customer’s journey with your e-commerce. It may involve different stages, beginning when someone learns about your business, when he/she visits your website for the first time, to the purchasing stage, marketing\n",
    "funnels map routes to conversion and beyond. Suppose your funnel involves just three simple steps: 1) view, 2) cart, 3) purchase. Which is the rate of complete funnels?"
   ]
  },
  {
   "cell_type": "markdown",
   "metadata": {},
   "source": [
    "# 1.a\n",
    "What’s the operation users repeat more on average within a session? Produce a plot that shows the average number of times users perform each operation (view/removefromchart etc etc)."
   ]
  },
  {
   "cell_type": "markdown",
   "metadata": {},
   "source": [
    "### 1.b\n",
    "How many times, on average, a user views a product before adding it to the cart?"
   ]
  },
  {
   "cell_type": "markdown",
   "metadata": {},
   "source": [
    "### 1.c\n",
    "What’s the probability that products added once to the cart are effectively bought?"
   ]
  },
  {
   "cell_type": "markdown",
   "metadata": {},
   "source": [
    "### 1.d\n",
    "What’s the average time an item stays in the cart before being removed?"
   ]
  },
  {
   "cell_type": "markdown",
   "metadata": {},
   "source": [
    "# 1.e\n",
    "How much time passes on average between the first view time and a purchase/addition to cart?"
   ]
  },
  {
   "cell_type": "code",
   "execution_count": null,
   "metadata": {},
   "outputs": [],
   "source": [
    "def view_purch_avg_time(df):\n",
    "\n",
    "    df.loc[:, 'action'] = ''\n",
    "    df.loc[df.event_type == 'view', 'action'] = 'view'\n",
    "    df.loc[df.event_type.isin(['cart', 'purchase']), 'action'] = 'cart_purchase'\n",
    "\n",
    "    def view_purch_timediff(x):\n",
    "        if x.shape[0] == 1:\n",
    "            return None\n",
    "        return max(x) - min(x)\n",
    "\n",
    "\n",
    "    df_first_groups = df.groupby(['product_id', 'user_id', 'action']).aggregate(time_first_action=pd.NamedAgg(\n",
    "            column='event_time',\n",
    "            aggfunc='min'\n",
    "    )).reset_index()\n",
    "\n",
    "    df_second_groups = df_first_groups.groupby(['product_id', 'user_id']).aggregate(time_difference=pd.NamedAgg(\n",
    "            column='time_first_action', \n",
    "            aggfunc=view_purch_timediff\n",
    "    )\n",
    "    ).reset_index()\n",
    "    \n",
    "    return df_second_groups[pd.notnull(df_second_groups)['time_difference']]['time_difference'].mean()"
   ]
  },
  {
   "cell_type": "markdown",
   "metadata": {},
   "source": [
    "## [RQ3]\n",
    "For each category, what’s the brand whose prices are higher on average?"
   ]
  },
  {
   "cell_type": "markdown",
   "metadata": {},
   "source": [
    "### 3.a\n",
    "Write a function that asks the user a category in input and returns a plot indicating the average price of the products sold by the brand."
   ]
  },
  {
   "cell_type": "code",
   "execution_count": null,
   "metadata": {},
   "outputs": [],
   "source": [
    "def avg_price_cat(df, category):\n",
    "    \n",
    "    # Compute the average prices\n",
    "    avg_prices = purchases.loc[purchases['category_id'] == category].groupby('brand').mean()['price']\n",
    "    \n",
    "    # Plot them\n",
    "    f = plt.figure()\n",
    "    ax = avg_prices.plot(figsize=(15,6), kind='bar', color = \"royalblue\", zorder=3)\n",
    "\n",
    "    # Set up grids\n",
    "    plt.grid(color = 'lightgray', linestyle='-.', zorder = 0)\n",
    "\n",
    "    # setting label for x, y and the title\n",
    "    plt.setp(ax,xlabel='brands', ylabel='avg price',\n",
    "             title = 'Average price for brand')\n",
    "    \n",
    "    plt.show()\n",
    "    \n",
    "    return"
   ]
  },
  {
   "cell_type": "code",
   "execution_count": null,
   "metadata": {},
   "outputs": [],
   "source": [
    "# e.g., if `category = 2053013555631882655\n",
    "\n",
    "avg_price_cat(df_Nov, 2053013555631882655)"
   ]
  },
  {
   "cell_type": "markdown",
   "metadata": {},
   "source": [
    "### 3.b\n",
    "Find, for each category, the brand with the highest average price. Return all the results in ascending order by price."
   ]
  },
  {
   "cell_type": "code",
   "execution_count": null,
   "metadata": {},
   "outputs": [],
   "source": [
    "def highest_price_brands(df):\n",
    "    # Create a dataframe with just the purchases as event_type\n",
    "    df_purchases = df[df.event_type == 'purchase']\n",
    "    \n",
    "    # Select only the ones where the `brand` column is not empty\n",
    "    df_notnull_purchases = df_purchases.loc[df_purchases.brand.notnull()]\n",
    "    \n",
    "    # Instantiate a dictionary\n",
    "    high_brands = {}\n",
    "    \n",
    "    # Fill with the category number as key and its (brand, price) as values\n",
    "    # brand selected will be the one with avg highest price in the selected category\n",
    "    # Iterate on the dframes created by the groupby on the category\n",
    "    for _, category_frame in df_notnull_purchases.groupby('category_id'):\n",
    "        category_num = category_frame['category_id'].iloc[0]\n",
    "        \n",
    "        # For each frame, group on the brand and transform with mean\n",
    "        avg_prices_cat = category_frame.groupby('brand').mean().reset_index()\n",
    "        \n",
    "        # Select row index with highest price\n",
    "        idx = avg_prices_cat['price'].argmax()\n",
    "        \n",
    "        # Extract brand name and respective price for each category\n",
    "        category_brand = avg_prices_cat.iloc[idx]['brand']\n",
    "        category_price = avg_prices_cat.iloc[idx]['price']\n",
    "        \n",
    "        # Fill the dictionary\n",
    "        high_brands[category_num] = (category_brand, category_price)\n",
    "        \n",
    "    dict_values = list(high_brands.values())\n",
    "    \n",
    "    # Sort the dictionary values (brand, price) w.r.t. the price\n",
    "    dict_values.sort(key=lambda x:x[1])\n",
    "    \n",
    "    # Return the keys, which are the actual brands sorted\n",
    "    return [x[0] for x in dict_values]"
   ]
  },
  {
   "cell_type": "code",
   "execution_count": null,
   "metadata": {},
   "outputs": [],
   "source": [
    "highest_price_brands(df_Nov)"
   ]
  },
  {
   "cell_type": "markdown",
   "metadata": {},
   "source": [
    "## [RQ5]\n",
    "In what part of the day is your store most visited? Knowing which days of the week or even which hours of the day shoppers are likely to visit your online store and make a purchase may help you improve your strategies. Create a plot that for each day of\n",
    "the week show the hourly average of visitors your store has."
   ]
  },
  {
   "cell_type": "code",
   "execution_count": null,
   "metadata": {},
   "outputs": [],
   "source": [
    "def avg_users(df):\n",
    "    \n",
    "    week_days = []\n",
    "    \n",
    "    for _, week_day_df in df.groupby([df.event_time.dt.weekday]):\n",
    "        users_num = week_day_df.groupby([week_day_df.event_time.dt.hour]).count()['user_id']\n",
    "        week_days.append((users_num, week_day_df.event_time.iloc[0].strftime('%A')))\n",
    "        \n",
    "    plots_colors = ['royalblue', 'orange', 'mediumseagreen', \n",
    "                    'crimson', 'darkcyan', 'coral', 'violet']\n",
    "    \n",
    "    \n",
    "    # For every day of the week, plot the average number of users that visit the store each hour\n",
    "    for i, (week_day, day_name) in enumerate(week_days):\n",
    "        # Plot them\n",
    "        f = plt.figure()\n",
    "        \n",
    "        ax = week_day.plot(figsize=(15,6), kind='bar', color = plots_colors[i], zorder=3)\n",
    "        \n",
    "        # Set up grids\n",
    "        plt.grid(color = 'lightgray', linestyle='-.', zorder = 0)\n",
    "\n",
    "        # setting label for x, y and the title\n",
    "        plt.setp(ax,xlabel='hour', ylabel='avg users',\n",
    "                 title = 'Average number of users per hour - {}'.format(day_name))\n",
    "\n",
    "        plt.show()\n",
    "    \n",
    "    return"
   ]
  },
  {
   "cell_type": "code",
   "execution_count": null,
   "metadata": {
    "scrolled": true
   },
   "outputs": [],
   "source": [
    "# Use sample for time reasons\n",
    "\n",
    "avg_users(sample)"
   ]
  },
  {
   "cell_type": "markdown",
   "metadata": {},
   "source": [
    "## [RQ6]\n",
    "The conversion rate of a product is given by the purchase rate over the number of times the product has been visited. What's the conversion rate of your online store?"
   ]
  },
  {
   "cell_type": "markdown",
   "metadata": {},
   "source": [
    "### 6.a\n",
    "Find the overall conversion rate of your store."
   ]
  },
  {
   "cell_type": "code",
   "execution_count": null,
   "metadata": {},
   "outputs": [],
   "source": []
  }
 ],
 "metadata": {
  "kernelspec": {
   "display_name": "Python 3",
   "language": "python",
   "name": "python3"
  },
  "language_info": {
   "codemirror_mode": {
    "name": "ipython",
    "version": 3
   },
   "file_extension": ".py",
   "mimetype": "text/x-python",
   "name": "python",
   "nbconvert_exporter": "python",
   "pygments_lexer": "ipython3",
   "version": "3.7.6"
  }
 },
 "nbformat": 4,
 "nbformat_minor": 4
}
